{
 "cells": [
  {
   "cell_type": "code",
   "execution_count": 6,
   "metadata": {},
   "outputs": [],
   "source": [
    "class dog:\n",
    "    kind=\"cannine\"                       #class varibale shared by \n",
    "    def __init__(self,name):\n",
    "        self.name=name\n",
    "    def showkind(self):\n",
    "        print(self.kind)\n",
    "        print(self.name) # aagr dog.kind use kia to vo global walla legga aagr global me kind nhi to vo error dedega bhaehi humne local me kind define krde\n",
    "        #self me phle vo local me dekhega nhi milla to global me jaaega so basically self use krna safe hai but aagr global walla use na krna ho to simple class ka namm hi daal do\n",
    "d=dog(\"snoopy\")\n",
    "t=dog(\"Babar\")"
   ]
  },
  {
   "cell_type": "code",
   "execution_count": 8,
   "metadata": {},
   "outputs": [
    {
     "name": "stdout",
     "output_type": "stream",
     "text": [
      "cannine\n",
      "snoopy\n"
     ]
    }
   ],
   "source": [
    "d.showkind()"
   ]
  },
  {
   "cell_type": "code",
   "execution_count": 9,
   "metadata": {},
   "outputs": [
    {
     "name": "stdout",
     "output_type": "stream",
     "text": [
      "cannine\n",
      "Babar\n"
     ]
    }
   ],
   "source": [
    "t.showkind()"
   ]
  },
  {
   "cell_type": "code",
   "execution_count": 3,
   "metadata": {},
   "outputs": [],
   "source": [
    "def fun(*args):\n",
    "    print(*args)"
   ]
  },
  {
   "cell_type": "code",
   "execution_count": 36,
   "metadata": {},
   "outputs": [],
   "source": [
    "class trick:\n",
    "    t=[]\n",
    "    def __init__(self,name):\n",
    "        self.name=name\n",
    "    def addtricks(self,trick):\n",
    "        self.trick=trick\n",
    "        self.t.append(trick)\n",
    "    def about(self):\n",
    "        print(self.name)\n",
    "        print(self.trick)\n",
    "    "
   ]
  },
  {
   "cell_type": "code",
   "execution_count": 37,
   "metadata": {},
   "outputs": [],
   "source": [
    "q=trick(\"dobby\")"
   ]
  },
  {
   "cell_type": "code",
   "execution_count": 39,
   "metadata": {},
   "outputs": [],
   "source": [
    "q.addtricks(\"funny\")"
   ]
  },
  {
   "cell_type": "code",
   "execution_count": 40,
   "metadata": {},
   "outputs": [
    {
     "name": "stdout",
     "output_type": "stream",
     "text": [
      "dobby\n",
      "funny\n"
     ]
    }
   ],
   "source": [
    "q.about()"
   ]
  },
  {
   "cell_type": "code",
   "execution_count": 43,
   "metadata": {},
   "outputs": [
    {
     "data": {
      "text/plain": [
       "__main__.dog"
      ]
     },
     "execution_count": 43,
     "metadata": {},
     "output_type": "execute_result"
    }
   ],
   "source": [
    "type(t)"
   ]
  },
  {
   "cell_type": "code",
   "execution_count": 44,
   "metadata": {},
   "outputs": [],
   "source": [
    "class name:\n",
    "    def __init__(self,name):\n",
    "        self.name=name\n",
    "    def greet(self):\n",
    "        print(\"hii i am\",self.name)\n",
    "        "
   ]
  },
  {
   "cell_type": "code",
   "execution_count": 46,
   "metadata": {},
   "outputs": [
    {
     "name": "stdout",
     "output_type": "stream",
     "text": [
      "hii i am yatharth\n"
     ]
    }
   ],
   "source": [
    "z=name(\"yatharth\")\n",
    "z.greet()"
   ]
  },
  {
   "cell_type": "code",
   "execution_count": 4,
   "metadata": {},
   "outputs": [],
   "source": [
    "def a(op,*args):\n",
    "    ans=0\n",
    "    for i in args:\n",
    "        print(i)\n",
    "        ans=ans+i\n",
    "    return ans"
   ]
  },
  {
   "cell_type": "code",
   "execution_count": 5,
   "metadata": {},
   "outputs": [
    {
     "name": "stdout",
     "output_type": "stream",
     "text": [
      "3\n"
     ]
    },
    {
     "ename": "TypeError",
     "evalue": "unsupported operand type(s) for +: 'int' and 'str'",
     "output_type": "error",
     "traceback": [
      "\u001b[1;31m---------------------------------------------------------------------------\u001b[0m",
      "\u001b[1;31mTypeError\u001b[0m                                 Traceback (most recent call last)",
      "\u001b[1;32m<ipython-input-5-69f532575892>\u001b[0m in \u001b[0;36m<module>\u001b[1;34m()\u001b[0m\n\u001b[1;32m----> 1\u001b[1;33m \u001b[0ma\u001b[0m\u001b[1;33m(\u001b[0m\u001b[1;34m\"add\"\u001b[0m\u001b[1;33m,\u001b[0m\u001b[1;34m\"3\"\u001b[0m\u001b[1;33m,\u001b[0m\u001b[1;34m\"4\"\u001b[0m\u001b[1;33m)\u001b[0m\u001b[1;33m\u001b[0m\u001b[0m\n\u001b[0m",
      "\u001b[1;32m<ipython-input-4-92b2e0b4a029>\u001b[0m in \u001b[0;36ma\u001b[1;34m(op, *args)\u001b[0m\n\u001b[0;32m      3\u001b[0m     \u001b[1;32mfor\u001b[0m \u001b[0mi\u001b[0m \u001b[1;32min\u001b[0m \u001b[0margs\u001b[0m\u001b[1;33m:\u001b[0m\u001b[1;33m\u001b[0m\u001b[0m\n\u001b[0;32m      4\u001b[0m         \u001b[0mprint\u001b[0m\u001b[1;33m(\u001b[0m\u001b[0mi\u001b[0m\u001b[1;33m)\u001b[0m\u001b[1;33m\u001b[0m\u001b[0m\n\u001b[1;32m----> 5\u001b[1;33m         \u001b[0mans\u001b[0m\u001b[1;33m=\u001b[0m\u001b[0mans\u001b[0m\u001b[1;33m+\u001b[0m\u001b[0mi\u001b[0m\u001b[1;33m\u001b[0m\u001b[0m\n\u001b[0m\u001b[0;32m      6\u001b[0m     \u001b[1;32mreturn\u001b[0m \u001b[0mans\u001b[0m\u001b[1;33m\u001b[0m\u001b[0m\n",
      "\u001b[1;31mTypeError\u001b[0m: unsupported operand type(s) for +: 'int' and 'str'"
     ]
    }
   ],
   "source": [
    "a(\"add\",\"3\",\"4\")\n"
   ]
  },
  {
   "cell_type": "code",
   "execution_count": 3,
   "metadata": {},
   "outputs": [
    {
     "data": {
      "text/plain": [
       "60"
      ]
     },
     "execution_count": 3,
     "metadata": {},
     "output_type": "execute_result"
    }
   ],
   "source": [
    "class student:\n",
    "    marks=49\n",
    "    def addmarks(self,score):\n",
    "        self.marks=self.marks+score\n",
    "        return self.marks\n",
    "#class type ka variable\n",
    "s=student() \n",
    "s.addmarks(11)"
   ]
  },
  {
   "cell_type": "code",
   "execution_count": 2,
   "metadata": {},
   "outputs": [
    {
     "name": "stdout",
     "output_type": "stream",
     "text": [
      "Object `self` not found.\n"
     ]
    }
   ],
   "source": [
    "\n",
    "    "
   ]
  },
  {
   "cell_type": "code",
   "execution_count": 15,
   "metadata": {},
   "outputs": [
    {
     "name": "stdout",
     "output_type": "stream",
     "text": [
      "1\n",
      "29\n",
      "-35\n",
      "[1, 29]\n",
      "the sum is: -5\n"
     ]
    }
   ],
   "source": [
    "a=[]\n",
    "sum=0\n",
    "i=0\n",
    "while(sum>=0):\n",
    "    a.append(int(input()))\n",
    "    if a[i]>-1000 and a[i]<1000:\n",
    "        sum=sum+a[i]\n",
    "        i=i+1\n",
    "    else:\n",
    "        a.remove(a[i])\n",
    "        print(\"Print the number btw -1000 and 1000\")\n",
    "a.remove(a[-1])\n",
    "print(a)\n",
    "print(\"the sum is:\",sum)"
   ]
  },
  {
   "cell_type": "code",
   "execution_count": 11,
   "metadata": {},
   "outputs": [
    {
     "data": {
      "text/plain": [
       "[1, 2, -999]"
      ]
     },
     "execution_count": 11,
     "metadata": {},
     "output_type": "execute_result"
    }
   ],
   "source": [
    "a=[]\n",
    "sum=0\n",
    "i=0\n",
    "for i in range()\n",
    "    a.append(int(input()))\n",
    "    if a[i]>-1000 and a[i]<1000:\n",
    "        sum=sum+a[i]\n",
    "        i=i+1\n",
    "    else:\n",
    "        a.remove(a[i])\n",
    "        print(\"Print the number btw -1000 and 1000\")\n",
    "a.remove(a[-1])\n",
    "print(a)\n",
    "print(\"the sum is:\",sum)"
   ]
  },
  {
   "cell_type": "code",
   "execution_count": null,
   "metadata": {},
   "outputs": [],
   "source": [
    "a=int(input())\n",
    "b=0\n",
    "for i in range(2,a):\n",
    "    if a%i==0:\n",
    "        b=b+1\n",
    "    else:\n",
    "        b=b+0\n",
    "if b==0:\n",
    "    print(\"prime\")\n",
    "else:\n",
    "    print(\"not prime\")"
   ]
  },
  {
   "cell_type": "code",
   "execution_count": 9,
   "metadata": {},
   "outputs": [],
   "source": [
    "def isprime(a):\n",
    "    i=2\n",
    "    j=3\n",
    "    while(a%i!=0):\n",
    "        i=i+1\n",
    "    if i==a:    \n",
    "        print(\"Prime\")\n",
    "    else:\n",
    "        print(\"not prime\")"
   ]
  },
  {
   "cell_type": "code",
   "execution_count": 10,
   "metadata": {},
   "outputs": [
    {
     "name": "stdout",
     "output_type": "stream",
     "text": [
      "Not-Prime\n"
     ]
    }
   ],
   "source": [
    "isprime(13)"
   ]
  },
  {
   "cell_type": "code",
   "execution_count": 30,
   "metadata": {},
   "outputs": [
    {
     "name": "stdout",
     "output_type": "stream",
     "text": [
      "3 1\n",
      "4 0\n",
      "4 1\n",
      "5 1\n",
      "5 2\n",
      "5 1\n"
     ]
    }
   ],
   "source": [
    "a=[]\n",
    "for i in range(2,6):\n",
    "    for j in range(2,i):\n",
    "        print(i,i%j)\n",
    "        \n",
    "        \n",
    "            "
   ]
  },
  {
   "cell_type": "code",
   "execution_count": 12,
   "metadata": {},
   "outputs": [],
   "source": [
    "class person():\n",
    "    nationality = \"Italian\" #Class variable:It will remain same for all the objects of same class\n",
    "    \n",
    "    def __init__(self,name,clg,sal,marks):\n",
    "        #Instaance variable:It will not be same for all the object of any classs\n",
    "        self.n=name\n",
    "        self.s=sal\n",
    "        self.c=clg\n",
    "        self.m=marks\n",
    "    def bio(self):\n",
    "        marks=0\n",
    "        marks=self.m+marks\n",
    "        print(\"Hii i am \",self.n + \" and imma from\",self.c+ \"  i got\",self.m)\n",
    "        print(\"My salary is\",self.s)\n",
    "        print(\"My Nationality is\",self.nationality)\n",
    "    def fool(self):\n",
    "        print(\"Hii i am\",self.n+\"my nationality is\",self.nationality)\n",
    "    def addmarks(self,score):\n",
    "        self.m=self.m+score\n",
    "        print(\"\",self.m)\n",
    "p=person(\"yatharth\",\"bvp\",11234,50)"
   ]
  },
  {
   "cell_type": "code",
   "execution_count": 13,
   "metadata": {},
   "outputs": [
    {
     "name": "stdout",
     "output_type": "stream",
     "text": [
      " 60\n"
     ]
    }
   ],
   "source": [
    "p.addmarks(10)"
   ]
  },
  {
   "cell_type": "code",
   "execution_count": 15,
   "metadata": {},
   "outputs": [
    {
     "name": "stdout",
     "output_type": "stream",
     "text": [
      "Hii i am  yatharth and imma from bvpi got 60\n",
      "My salary is 11234\n",
      "My Nationality is Italian\n"
     ]
    }
   ],
   "source": [
    "p.bio()"
   ]
  },
  {
   "cell_type": "code",
   "execution_count": 32,
   "metadata": {},
   "outputs": [
    {
     "name": "stdout",
     "output_type": "stream",
     "text": [
      "hello,how are you yarharth\n"
     ]
    }
   ],
   "source": [
    "class person:\n",
    "    def say_Hi(self,name):\n",
    "        self.n=name\n",
    "        print(\"hello,how are you\",name)\n",
    "        \n",
    "p=person()        \n",
    "p.say_Hi(\"yarharth\")"
   ]
  },
  {
   "cell_type": "code",
   "execution_count": null,
   "metadata": {},
   "outputs": [],
   "source": []
  },
  {
   "cell_type": "code",
   "execution_count": 6,
   "metadata": {},
   "outputs": [],
   "source": [
    "class A():\n",
    "    def __int__(self):\n",
    "        print(\"wooaaaahhhhh\")\n",
    "    def __del__(self):\n",
    "        print(\"I am dying\")\n",
    "    def __add__(self,other):\n",
    "        print(other)\n",
    "        "
   ]
  },
  {
   "cell_type": "code",
   "execution_count": 7,
   "metadata": {},
   "outputs": [
    {
     "data": {
      "text/plain": [
       "<__main__.A at 0x206f9a0e7b8>"
      ]
     },
     "execution_count": 7,
     "metadata": {},
     "output_type": "execute_result"
    }
   ],
   "source": [
    "a=A()\n",
    "a"
   ]
  },
  {
   "cell_type": "code",
   "execution_count": 25,
   "metadata": {},
   "outputs": [
    {
     "name": "stdout",
     "output_type": "stream",
     "text": [
      "3\n"
     ]
    }
   ],
   "source": [
    "a+3"
   ]
  },
  {
   "cell_type": "code",
   "execution_count": 3,
   "metadata": {},
   "outputs": [],
   "source": [
    "class A:\n",
    "    def __init__(self):\n",
    "        print(\"woooahhhhhh\")\n",
    "    \n",
    "    def __add__(self,other):\n",
    "        print(other)\n",
    "        return 5\n",
    "    \n",
    "    def __del__(self):\n",
    "        print(\"i am dying\")"
   ]
  },
  {
   "cell_type": "code",
   "execution_count": 6,
   "metadata": {},
   "outputs": [
    {
     "name": "stdout",
     "output_type": "stream",
     "text": [
      "woooahhhhhh\n"
     ]
    }
   ],
   "source": [
    "a=A()"
   ]
  },
  {
   "cell_type": "code",
   "execution_count": 7,
   "metadata": {},
   "outputs": [
    {
     "name": "stdout",
     "output_type": "stream",
     "text": [
      "i am dying\n"
     ]
    }
   ],
   "source": [
    "del a"
   ]
  },
  {
   "cell_type": "code",
   "execution_count": null,
   "metadata": {},
   "outputs": [],
   "source": []
  },
  {
   "cell_type": "code",
   "execution_count": null,
   "metadata": {},
   "outputs": [],
   "source": []
  },
  {
   "cell_type": "code",
   "execution_count": null,
   "metadata": {},
   "outputs": [],
   "source": []
  },
  {
   "cell_type": "code",
   "execution_count": null,
   "metadata": {},
   "outputs": [],
   "source": []
  },
  {
   "cell_type": "code",
   "execution_count": null,
   "metadata": {},
   "outputs": [],
   "source": []
  },
  {
   "cell_type": "code",
   "execution_count": null,
   "metadata": {},
   "outputs": [],
   "source": []
  },
  {
   "cell_type": "code",
   "execution_count": 13,
   "metadata": {},
   "outputs": [],
   "source": [
    "class dog():\n",
    "    type=\"cute\"\n",
    "    a=[]\n",
    "    def __init__(self,name,breed):\n",
    "        self.name=name\n",
    "        self.breed=breed\n",
    "    def activity(self,act):\n",
    "        print(name)\n",
    "        print(breed)\n",
    "        a.append(self.act)\n",
    "        "
   ]
  },
  {
   "cell_type": "code",
   "execution_count": 14,
   "metadata": {},
   "outputs": [
    {
     "ename": "NameError",
     "evalue": "name 'name' is not defined",
     "output_type": "error",
     "traceback": [
      "\u001b[1;31m---------------------------------------------------------------------------\u001b[0m",
      "\u001b[1;31mNameError\u001b[0m                                 Traceback (most recent call last)",
      "\u001b[1;32m<ipython-input-14-be7e0a9e9755>\u001b[0m in \u001b[0;36m<module>\u001b[1;34m()\u001b[0m\n\u001b[0;32m      1\u001b[0m \u001b[0md\u001b[0m\u001b[1;33m=\u001b[0m\u001b[0mdog\u001b[0m\u001b[1;33m(\u001b[0m\u001b[1;34m\"dino\"\u001b[0m\u001b[1;33m,\u001b[0m\u001b[1;34m\"lebrador\"\u001b[0m\u001b[1;33m)\u001b[0m\u001b[1;33m\u001b[0m\u001b[0m\n\u001b[1;32m----> 2\u001b[1;33m \u001b[0md\u001b[0m\u001b[1;33m.\u001b[0m\u001b[0mactivity\u001b[0m\u001b[1;33m(\u001b[0m\u001b[1;34m\"playfull\"\u001b[0m\u001b[1;33m)\u001b[0m\u001b[1;33m\u001b[0m\u001b[0m\n\u001b[0m",
      "\u001b[1;32m<ipython-input-13-3605d0fffe30>\u001b[0m in \u001b[0;36mactivity\u001b[1;34m(self, act)\u001b[0m\n\u001b[0;32m      6\u001b[0m         \u001b[0mself\u001b[0m\u001b[1;33m.\u001b[0m\u001b[0mbreed\u001b[0m\u001b[1;33m=\u001b[0m\u001b[0mbreed\u001b[0m\u001b[1;33m\u001b[0m\u001b[0m\n\u001b[0;32m      7\u001b[0m     \u001b[1;32mdef\u001b[0m \u001b[0mactivity\u001b[0m\u001b[1;33m(\u001b[0m\u001b[0mself\u001b[0m\u001b[1;33m,\u001b[0m\u001b[0mact\u001b[0m\u001b[1;33m)\u001b[0m\u001b[1;33m:\u001b[0m\u001b[1;33m\u001b[0m\u001b[0m\n\u001b[1;32m----> 8\u001b[1;33m         \u001b[0mprint\u001b[0m\u001b[1;33m(\u001b[0m\u001b[0mname\u001b[0m\u001b[1;33m)\u001b[0m\u001b[1;33m\u001b[0m\u001b[0m\n\u001b[0m\u001b[0;32m      9\u001b[0m         \u001b[0mprint\u001b[0m\u001b[1;33m(\u001b[0m\u001b[0mbreed\u001b[0m\u001b[1;33m)\u001b[0m\u001b[1;33m\u001b[0m\u001b[0m\n\u001b[0;32m     10\u001b[0m         \u001b[0ma\u001b[0m\u001b[1;33m.\u001b[0m\u001b[0mappend\u001b[0m\u001b[1;33m(\u001b[0m\u001b[0mself\u001b[0m\u001b[1;33m.\u001b[0m\u001b[0mact\u001b[0m\u001b[1;33m)\u001b[0m\u001b[1;33m\u001b[0m\u001b[0m\n",
      "\u001b[1;31mNameError\u001b[0m: name 'name' is not defined"
     ]
    }
   ],
   "source": [
    "d=dog(\"dino\",\"lebrador\")\n",
    "d.activity(\"playfull\")"
   ]
  },
  {
   "cell_type": "code",
   "execution_count": 9,
   "metadata": {},
   "outputs": [
    {
     "ename": "NameError",
     "evalue": "name 'activity' is not defined",
     "output_type": "error",
     "traceback": [
      "\u001b[1;31m---------------------------------------------------------------------------\u001b[0m",
      "\u001b[1;31mNameError\u001b[0m                                 Traceback (most recent call last)",
      "\u001b[1;32m<ipython-input-9-7363379fb661>\u001b[0m in \u001b[0;36m<module>\u001b[1;34m()\u001b[0m\n\u001b[0;32m      1\u001b[0m \u001b[0md\u001b[0m\u001b[1;33m=\u001b[0m\u001b[0mdog\u001b[0m\u001b[1;33m(\u001b[0m\u001b[1;34m\"dino\"\u001b[0m\u001b[1;33m,\u001b[0m\u001b[1;34m\"lebrador\"\u001b[0m\u001b[1;33m)\u001b[0m\u001b[1;33m\u001b[0m\u001b[0m\n\u001b[1;32m----> 2\u001b[1;33m \u001b[0mactivity\u001b[0m\u001b[1;33m(\u001b[0m\u001b[1;34m\"playfull\"\u001b[0m\u001b[1;33m)\u001b[0m\u001b[1;33m\u001b[0m\u001b[0m\n\u001b[0m",
      "\u001b[1;31mNameError\u001b[0m: name 'activity' is not defined"
     ]
    }
   ],
   "source": [
    "d=dog(\"dino\",\"lebrador\")\n",
    "activity(\"playfull\""
   ]
  },
  {
   "cell_type": "code",
   "execution_count": 138,
   "metadata": {},
   "outputs": [
    {
     "ename": "NameError",
     "evalue": "name 'activity' is not defined",
     "output_type": "error",
     "traceback": [
      "\u001b[1;31m---------------------------------------------------------------------------\u001b[0m",
      "\u001b[1;31mNameError\u001b[0m                                 Traceback (most recent call last)",
      "\u001b[1;32m<ipython-input-138-3cfc3c56e84b>\u001b[0m in \u001b[0;36m<module>\u001b[1;34m()\u001b[0m\n\u001b[1;32m----> 1\u001b[1;33m \u001b[0mactivity\u001b[0m\u001b[1;33m(\u001b[0m\u001b[1;33m)\u001b[0m\u001b[1;33m\u001b[0m\u001b[0m\n\u001b[0m",
      "\u001b[1;31mNameError\u001b[0m: name 'activity' is not defined"
     ]
    }
   ],
   "source": [
    "activity()"
   ]
  },
  {
   "cell_type": "code",
   "execution_count": 187,
   "metadata": {},
   "outputs": [],
   "source": [
    "class doggy():\n",
    "    a=[]\n",
    "    def __init__(self,name,breed,act):\n",
    "        self.name=name\n",
    "        self.act=act\n",
    "        self.breed=breed\n",
    "    def activity(self,act):\n",
    "        self.a.append(self.act)\n",
    "        print(act+\"(\",\"just ignore this\"+\")\")\n",
    "        print(self.a)\n",
    "        "
   ]
  },
  {
   "cell_type": "code",
   "execution_count": 188,
   "metadata": {},
   "outputs": [],
   "source": [
    "d=doggy('snoopy','beagle','bite')\n",
    "do=doggy(\"dino\",\"labrador\",\"bark\") "
   ]
  },
  {
   "cell_type": "code",
   "execution_count": 192,
   "metadata": {},
   "outputs": [
    {
     "name": "stdout",
     "output_type": "stream",
     "text": [
      "howl( just ignore this)\n",
      "['bite', 'bite', 'bark', 'bite']\n"
     ]
    }
   ],
   "source": [
    "d.activity(\"howl\")"
   ]
  },
  {
   "cell_type": "markdown",
   "metadata": {},
   "source": [
    "## adding private methords"
   ]
  },
  {
   "cell_type": "code",
   "execution_count": 18,
   "metadata": {},
   "outputs": [
    {
     "name": "stdout",
     "output_type": "stream",
     "text": [
      "Jamie want Iron Throne and Lanisters pay their depts\n",
      "Jamie Fucks his Sis\n"
     ]
    }
   ],
   "source": [
    "class got():\n",
    "    need=\"want Iron Throne\"\n",
    "    def __init__(self):\n",
    "        pass\n",
    "    def Lanisters(self,name,moto):\n",
    "        self.name=name\n",
    "        self.moto=moto\n",
    "        print(self.name,self.need,\"and\",self.moto)\n",
    "        self.__secretsofgot()\n",
    "    def __secretsofgot(self):\n",
    "        print(self.name,\"Fucks his Sis\")\n",
    "        \n",
    "g=got()\n",
    "g.Lanisters(\"Jamie\",\"Lanisters pay their depts\")"
   ]
  },
  {
   "cell_type": "code",
   "execution_count": 47,
   "metadata": {},
   "outputs": [
    {
     "name": "stdout",
     "output_type": "stream",
     "text": [
      "I am  Present\n",
      "I paid 10000\n",
      "My name is  tictick\n"
     ]
    }
   ],
   "source": [
    "class school():\n",
    "    def __init__(self,attendance):\n",
    "        self.attendance=attendance\n",
    "        print(\"I am \",self.attendance)\n",
    "class student(school):\n",
    "    def __init__(self,fees,attendance):\n",
    "        school.__init__(self,attendance)\n",
    "        self.fees=fees\n",
    "        self.attendance=attendance\n",
    "        print(\"I paid\",self.fees)\n",
    "    def bio(self,name):\n",
    "        self.name=name\n",
    "        print(\"My name is \",self.name)\n",
    "class teacher(school):\n",
    "    def __init__(self,attendance,sal):\n",
    "        school.__init__(self,attendance)\n",
    "        self.sal=sal\n",
    "    def about(self,name):\n",
    "        self.name=name\n",
    "        print(\"My name is\",self.name)\n",
    "        print(\"my sal is\",self.sal)\n",
    "s=student(\"10000\",\"Present\")\n",
    "s.bio(\"tictick\")"
   ]
  },
  {
   "cell_type": "code",
   "execution_count": 48,
   "metadata": {},
   "outputs": [
    {
     "name": "stdout",
     "output_type": "stream",
     "text": [
      "120\n"
     ]
    }
   ],
   "source": [
    "import math\n",
    "print(math.factorial(5))"
   ]
  },
  {
   "cell_type": "code",
   "execution_count": 49,
   "metadata": {},
   "outputs": [
    {
     "name": "stdout",
     "output_type": "stream",
     "text": [
      "3.141592653589793\n"
     ]
    }
   ],
   "source": [
    "print(math.pi)"
   ]
  },
  {
   "cell_type": "code",
   "execution_count": 52,
   "metadata": {},
   "outputs": [
    {
     "data": {
      "text/plain": [
       "['__doc__',\n",
       " '__loader__',\n",
       " '__name__',\n",
       " '__package__',\n",
       " '__spec__',\n",
       " 'acos',\n",
       " 'acosh',\n",
       " 'asin',\n",
       " 'asinh',\n",
       " 'atan',\n",
       " 'atan2',\n",
       " 'atanh',\n",
       " 'ceil',\n",
       " 'copysign',\n",
       " 'cos',\n",
       " 'cosh',\n",
       " 'degrees',\n",
       " 'e',\n",
       " 'erf',\n",
       " 'erfc',\n",
       " 'exp',\n",
       " 'expm1',\n",
       " 'fabs',\n",
       " 'factorial',\n",
       " 'floor',\n",
       " 'fmod',\n",
       " 'frexp',\n",
       " 'fsum',\n",
       " 'gamma',\n",
       " 'gcd',\n",
       " 'hypot',\n",
       " 'inf',\n",
       " 'isclose',\n",
       " 'isfinite',\n",
       " 'isinf',\n",
       " 'isnan',\n",
       " 'ldexp',\n",
       " 'lgamma',\n",
       " 'log',\n",
       " 'log10',\n",
       " 'log1p',\n",
       " 'log2',\n",
       " 'modf',\n",
       " 'nan',\n",
       " 'pi',\n",
       " 'pow',\n",
       " 'radians',\n",
       " 'remainder',\n",
       " 'sin',\n",
       " 'sinh',\n",
       " 'sqrt',\n",
       " 'tan',\n",
       " 'tanh',\n",
       " 'tau',\n",
       " 'trunc']"
      ]
     },
     "execution_count": 52,
     "metadata": {},
     "output_type": "execute_result"
    }
   ],
   "source": [
    "dir(math)"
   ]
  },
  {
   "cell_type": "code",
   "execution_count": 62,
   "metadata": {},
   "outputs": [
    {
     "name": "stdout",
     "output_type": "stream",
     "text": [
      "179.9087476710785\n"
     ]
    }
   ],
   "source": [
    "print(math.degrees(3.14))"
   ]
  },
  {
   "cell_type": "code",
   "execution_count": 63,
   "metadata": {},
   "outputs": [
    {
     "name": "stdout",
     "output_type": "stream",
     "text": [
      "0.0015926529164868282\n"
     ]
    }
   ],
   "source": [
    "print(math.sin(3.14))"
   ]
  },
  {
   "cell_type": "code",
   "execution_count": 13,
   "metadata": {},
   "outputs": [
    {
     "name": "stdout",
     "output_type": "stream",
     "text": [
      "I am A\n"
     ]
    }
   ],
   "source": [
    "class A:\n",
    "    def who_m_i(self):\n",
    "        print(\"I am A\")\n",
    "class B(A):\n",
    "    pass\n",
    "    #def who_m_i(self):\n",
    "  #      print(\"I am B\")\n",
    "class C(A):\n",
    "    #def who_m_i(self):\n",
    "     #   print(\"I am C\")\n",
    "    pass\n",
    "class D(B,C):\n",
    "    #def who_m_i(self):\n",
    "        pass\n",
    "d=D()\n",
    "d.who_m_i()"
   ]
  },
  {
   "cell_type": "code",
   "execution_count": 19,
   "metadata": {},
   "outputs": [
    {
     "name": "stdout",
     "output_type": "stream",
     "text": [
      "I am A3\n"
     ]
    }
   ],
   "source": [
    "class A1():\n",
    "    pass\n",
    "   # def hii(self):\n",
    "    #    print(\"I am A1\")\n",
    "class A2():\n",
    "    pass\n",
    "    #def hii(self):\n",
    "     #   print(\"I am A2\")\n",
    "class A3():\n",
    "    def hii(self):\n",
    "        print(\"I am A3\")\n",
    "class B(A1,A2):\n",
    "    pass\n",
    "  #  def hii(self):\n",
    "   #     print(\"I am B\")\n",
    "class C(A3):\n",
    "       pass     \n",
    "  #  def hii(self):\n",
    "   #     print(\"I am C\")\n",
    "class D(B,C):\n",
    "    pass\n",
    "   # def hii(self):\n",
    "    #    print(\"I am D\")\n",
    "d=D()\n",
    "d.hii()"
   ]
  },
  {
   "cell_type": "code",
   "execution_count": 24,
   "metadata": {},
   "outputs": [
    {
     "name": "stdout",
     "output_type": "stream",
     "text": [
      "hii hello\n"
     ]
    }
   ],
   "source": [
    "class hii():\n",
    "    def __init__(self,string):\n",
    "        self.string=string\n",
    "        print(\"hii\",self.string)\n",
    "    \n",
    "if __name__== \"__main__\":\n",
    "    s=hii(\"hello\")\n",
    "    "
   ]
  },
  {
   "cell_type": "code",
   "execution_count": 25,
   "metadata": {},
   "outputs": [
    {
     "name": "stdout",
     "output_type": "stream",
     "text": [
      "<__main__.hii object at 0x0000018EDB6AF1D0>\n"
     ]
    }
   ],
   "source": [
    "print(s)"
   ]
  },
  {
   "cell_type": "code",
   "execution_count": 26,
   "metadata": {},
   "outputs": [
    {
     "name": "stdout",
     "output_type": "stream",
     "text": [
      "hii hello\n"
     ]
    }
   ],
   "source": [
    "class hii():\n",
    "    def __init__(self,string):\n",
    "        self.string=string\n",
    "        print(\"hii\",self.string)\n",
    "    def __repr__(self):\n",
    "        return self.string\n",
    "if __name__== \"__main__\":\n",
    "    s=hii(\"hello\")\n",
    "    "
   ]
  },
  {
   "cell_type": "code",
   "execution_count": 2,
   "metadata": {},
   "outputs": [
    {
     "ename": "TypeError",
     "evalue": "object of type 'type' has no len()",
     "output_type": "error",
     "traceback": [
      "\u001b[1;31m---------------------------------------------------------------------------\u001b[0m",
      "\u001b[1;31mTypeError\u001b[0m                                 Traceback (most recent call last)",
      "\u001b[1;32m<ipython-input-2-fea66293b5b3>\u001b[0m in \u001b[0;36m<module>\u001b[1;34m()\u001b[0m\n\u001b[0;32m      5\u001b[0m         \u001b[1;32mreturn\u001b[0m \u001b[0mlen\u001b[0m\u001b[1;33m(\u001b[0m\u001b[0mself\u001b[0m\u001b[1;33m.\u001b[0m\u001b[0m_members\u001b[0m\u001b[1;33m)\u001b[0m\u001b[1;33m\u001b[0m\u001b[0m\n\u001b[0;32m      6\u001b[0m \u001b[0mp\u001b[0m\u001b[1;33m=\u001b[0m\u001b[0mpika\u001b[0m\u001b[1;33m(\u001b[0m\u001b[1;33m)\u001b[0m\u001b[1;33m\u001b[0m\u001b[0m\n\u001b[1;32m----> 7\u001b[1;33m \u001b[0mprint\u001b[0m\u001b[1;33m(\u001b[0m\u001b[1;34m\"there and %d members in pika\"\u001b[0m\u001b[1;33m%\u001b[0m\u001b[0mlen\u001b[0m\u001b[1;33m(\u001b[0m\u001b[0mpika\u001b[0m\u001b[1;33m)\u001b[0m\u001b[1;33m)\u001b[0m\u001b[1;33m\u001b[0m\u001b[0m\n\u001b[0m",
      "\u001b[1;31mTypeError\u001b[0m: object of type 'type' has no len()"
     ]
    }
   ],
   "source": [
    "class pika():\n",
    "    def __init__(self):\n",
    "        self._members=[\"hii\",\"byee\",\"fuck off\",\"ily\"]\n",
    "    def __len__(self):\n",
    "        return len(self._members)\n",
    "p=pika()\n",
    "print(\"there and %d members in pika\"%len(pika))"
   ]
  },
  {
   "cell_type": "code",
   "execution_count": 16,
   "metadata": {},
   "outputs": [
    {
     "name": "stdout",
     "output_type": "stream",
     "text": [
      "Howdy\n"
     ]
    }
   ],
   "source": [
    "class hii():\n",
    "    def __init__(self):\n",
    "        self.members=[\"1\",\"2\",\"3\",\"4\"]\n",
    "        print(\"Howdy\")\n",
    "    def __len__(self):\n",
    "        print(\"hola\")\n",
    "        return len(self.members)\n",
    "    def __getitem__(self,key):\n",
    "        print(\"hii\")\n",
    "        return \n",
    "h=hii()"
   ]
  },
  {
   "cell_type": "code",
   "execution_count": 17,
   "metadata": {},
   "outputs": [
    {
     "name": "stdout",
     "output_type": "stream",
     "text": [
      "hola\n"
     ]
    },
    {
     "data": {
      "text/plain": [
       "4"
      ]
     },
     "execution_count": 17,
     "metadata": {},
     "output_type": "execute_result"
    }
   ],
   "source": [
    "len(h)"
   ]
  },
  {
   "cell_type": "code",
   "execution_count": 20,
   "metadata": {},
   "outputs": [],
   "source": [
    "def about(name):\n",
    "    print(name,\"is awsome,intelligent and smart B-)\")"
   ]
  },
  {
   "cell_type": "code",
   "execution_count": 22,
   "metadata": {},
   "outputs": [
    {
     "name": "stdout",
     "output_type": "stream",
     "text": [
      "Ritika is awsome,intelligent and smart B-)\n"
     ]
    }
   ],
   "source": [
    "about(\"Ritika\")"
   ]
  },
  {
   "cell_type": "code",
   "execution_count": null,
   "metadata": {},
   "outputs": [],
   "source": [
    "rows = 6\n",
    "for row in range(1, rows):\n",
    "    for j in range(1,rows):\n",
    "        print(\"*\")"
   ]
  },
  {
   "cell_type": "code",
   "execution_count": 35,
   "metadata": {},
   "outputs": [
    {
     "name": "stdout",
     "output_type": "stream",
     "text": [
      "   * *   * *  \n",
      " *     *     *\n",
      " *           *\n",
      "   *       *  \n",
      "     *   *    \n",
      "       *      \n"
     ]
    }
   ],
   "source": [
    "for i in range(6):\n",
    "    for j in range(7):\n",
    "        if (i==0 and j%3!=0) or (i==1 and j%3==0) or (i-j==2) or (i+j==8):\n",
    "            print(\" *\",end=\"\")\n",
    "        else:\n",
    "            print(\" \",end=\" \")\n",
    "    print()\n",
    "   \n",
    "        "
   ]
  },
  {
   "cell_type": "code",
   "execution_count": 36,
   "metadata": {},
   "outputs": [],
   "source": [
    "def miniMaxSum(arr):\n",
    "    arr=arr.sort()\n",
    "    min=0\n",
    "    max=0\n",
    "    for x in range(0,4):\n",
    "        min=min+arr[x]\n",
    "    for y in range(1,5):\n",
    "        max=max+arr[x]\n",
    "    print(min)\n",
    "    print(max)"
   ]
  },
  {
   "cell_type": "code",
   "execution_count": 37,
   "metadata": {},
   "outputs": [
    {
     "ename": "TypeError",
     "evalue": "'NoneType' object is not subscriptable",
     "output_type": "error",
     "traceback": [
      "\u001b[1;31m---------------------------------------------------------------------------\u001b[0m",
      "\u001b[1;31mTypeError\u001b[0m                                 Traceback (most recent call last)",
      "\u001b[1;32m<ipython-input-37-9aaeb04cca8b>\u001b[0m in \u001b[0;36m<module>\u001b[1;34m()\u001b[0m\n\u001b[1;32m----> 1\u001b[1;33m \u001b[0mminiMaxSum\u001b[0m\u001b[1;33m(\u001b[0m\u001b[1;33m[\u001b[0m\u001b[1;36m12\u001b[0m\u001b[1;33m,\u001b[0m\u001b[1;36m3\u001b[0m\u001b[1;33m,\u001b[0m\u001b[1;36m4\u001b[0m\u001b[1;33m,\u001b[0m\u001b[1;36m5\u001b[0m\u001b[1;33m]\u001b[0m\u001b[1;33m)\u001b[0m\u001b[1;33m\u001b[0m\u001b[0m\n\u001b[0m",
      "\u001b[1;32m<ipython-input-36-c452c52c6ceb>\u001b[0m in \u001b[0;36mminiMaxSum\u001b[1;34m(arr)\u001b[0m\n\u001b[0;32m      4\u001b[0m     \u001b[0mmax\u001b[0m\u001b[1;33m=\u001b[0m\u001b[1;36m0\u001b[0m\u001b[1;33m\u001b[0m\u001b[0m\n\u001b[0;32m      5\u001b[0m     \u001b[1;32mfor\u001b[0m \u001b[0mx\u001b[0m \u001b[1;32min\u001b[0m \u001b[0mrange\u001b[0m\u001b[1;33m(\u001b[0m\u001b[1;36m0\u001b[0m\u001b[1;33m,\u001b[0m\u001b[1;36m4\u001b[0m\u001b[1;33m)\u001b[0m\u001b[1;33m:\u001b[0m\u001b[1;33m\u001b[0m\u001b[0m\n\u001b[1;32m----> 6\u001b[1;33m         \u001b[0mmin\u001b[0m\u001b[1;33m=\u001b[0m\u001b[0mmin\u001b[0m\u001b[1;33m+\u001b[0m\u001b[0marr\u001b[0m\u001b[1;33m[\u001b[0m\u001b[0mx\u001b[0m\u001b[1;33m]\u001b[0m\u001b[1;33m\u001b[0m\u001b[0m\n\u001b[0m\u001b[0;32m      7\u001b[0m     \u001b[1;32mfor\u001b[0m \u001b[0my\u001b[0m \u001b[1;32min\u001b[0m \u001b[0mrange\u001b[0m\u001b[1;33m(\u001b[0m\u001b[1;36m1\u001b[0m\u001b[1;33m,\u001b[0m\u001b[1;36m5\u001b[0m\u001b[1;33m)\u001b[0m\u001b[1;33m:\u001b[0m\u001b[1;33m\u001b[0m\u001b[0m\n\u001b[0;32m      8\u001b[0m         \u001b[0mmax\u001b[0m\u001b[1;33m=\u001b[0m\u001b[0mmax\u001b[0m\u001b[1;33m+\u001b[0m\u001b[0marr\u001b[0m\u001b[1;33m[\u001b[0m\u001b[0mx\u001b[0m\u001b[1;33m]\u001b[0m\u001b[1;33m\u001b[0m\u001b[0m\n",
      "\u001b[1;31mTypeError\u001b[0m: 'NoneType' object is not subscriptable"
     ]
    }
   ],
   "source": [
    "miniMaxSum([12,3,4,5])"
   ]
  },
  {
   "cell_type": "code",
   "execution_count": null,
   "metadata": {},
   "outputs": [],
   "source": []
  },
  {
   "cell_type": "code",
   "execution_count": null,
   "metadata": {},
   "outputs": [],
   "source": []
  },
  {
   "cell_type": "code",
   "execution_count": null,
   "metadata": {},
   "outputs": [],
   "source": []
  }
 ],
 "metadata": {
  "kernelspec": {
   "display_name": "Python 3",
   "language": "python",
   "name": "python3"
  },
  "language_info": {
   "codemirror_mode": {
    "name": "ipython",
    "version": 3
   },
   "file_extension": ".py",
   "mimetype": "text/x-python",
   "name": "python",
   "nbconvert_exporter": "python",
   "pygments_lexer": "ipython3",
   "version": "3.7.0"
  }
 },
 "nbformat": 4,
 "nbformat_minor": 2
}
